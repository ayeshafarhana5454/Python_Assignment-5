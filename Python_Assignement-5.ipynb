{
 "cells": [
  {
   "cell_type": "markdown",
   "id": "343f51c2",
   "metadata": {},
   "source": [
    "# Python_Assignment-5 "
   ]
  },
  {
   "cell_type": "code",
   "execution_count": null,
   "id": "18d02fbe",
   "metadata": {},
   "outputs": [],
   "source": [
    "8. How do you &quot;pretty print&quot; dictionary values using which module and function?"
   ]
  },
  {
   "cell_type": "markdown",
   "id": "c3333426",
   "metadata": {},
   "source": [
    "1. What does an empty dictionary's code look like?"
   ]
  },
  {
   "cell_type": "code",
   "execution_count": null,
   "id": "a35fb09d",
   "metadata": {},
   "outputs": [],
   "source": [
    "set or empty_dict={}"
   ]
  },
  {
   "cell_type": "markdown",
   "id": "6fd509a3",
   "metadata": {},
   "source": [
    "2. What is the value of a dictionary value with the key 'foo'and the value 42?"
   ]
  },
  {
   "cell_type": "code",
   "execution_count": null,
   "id": "81137d2a",
   "metadata": {},
   "outputs": [],
   "source": [
    "my_dict = {'foo': 42}\n",
    "value_of_foo = my_dict['foo']\n",
    "print(value_of_foo) "
   ]
  },
  {
   "cell_type": "markdown",
   "id": "92f57f54",
   "metadata": {},
   "source": [
    "3. What is the most significant distinction between a dictionary and a list?"
   ]
  },
  {
   "cell_type": "code",
   "execution_count": null,
   "id": "5bc45dad",
   "metadata": {},
   "outputs": [],
   "source": [
    "list store the sequence of itemes where as dictionary store the elements n key value pair"
   ]
  },
  {
   "cell_type": "markdown",
   "id": "42173fb7",
   "metadata": {},
   "source": [
    "4. What happens if you try to access spam['foo'] if spam is {'bar':'100}?"
   ]
  },
  {
   "cell_type": "code",
   "execution_count": null,
   "id": "cb9d4ed4",
   "metadata": {},
   "outputs": [],
   "source": [
    "It will thorw an key error"
   ]
  },
  {
   "cell_type": "markdown",
   "id": "6a5180cd",
   "metadata": {},
   "source": [
    "5. If a dictionary is stored in spam, what is the difference between the expressions 'cat' in spam and\n",
    "'cat' in spam.keys()?"
   ]
  },
  {
   "cell_type": "code",
   "execution_count": null,
   "id": "4dc59694",
   "metadata": {},
   "outputs": [],
   "source": [
    "'cat' in spam:\n",
    "This expression checks if the key 'cat' exists in the dictionary spam.\n",
    "If the key 'cat' is present in the dictionary as one of the keys, it will return True.\n",
    "If 'cat' is not a key in the dictionary, it will return False.\n",
    "'cat' in spam.keys():\n",
    "This expression checks if the string 'cat' exists as one of the keys in the dictionary spam.keys().\n",
    "spam.keys() returns a view object that contains all the keys in the dictionary spam.\n",
    "The expression 'cat' in spam.keys() will check if the string 'cat' is present in that view object,\n",
    "which means it checks if 'cat' is a key in the dictionary spam."
   ]
  },
  {
   "cell_type": "markdown",
   "id": "9530b014",
   "metadata": {},
   "source": [
    "6. If a dictionary is stored in spam, what is the difference between the expressions 'cat' in spam and\n",
    "'cat' in spam.values()?"
   ]
  },
  {
   "cell_type": "markdown",
   "id": "f3d1085e",
   "metadata": {},
   "source": [
    "'cat' in spam:\n",
    "This expression checks if the string 'cat' exists as one of the keys in the dictionary spam.\n",
    "If the string 'cat' is a key in the dictionary, it will return True.\n",
    "If 'cat' is not a key in the dictionary, it will return False.\n",
    "'cat' in spam.values():\n",
    "This expression checks if the string 'cat' exists as one of the values in the dictionary spam.\n",
    "If the value 'cat' is present in the dictionary as one of the values, it will return True.\n",
    "If 'cat' is not a value in the dictionary, it will return False."
   ]
  },
  {
   "cell_type": "markdown",
   "id": "afe462db",
   "metadata": {},
   "source": [
    "7. What is a shortcut for the following code?\n",
    "if 'color' not in spam:\n",
    "spam['color'] = 'black'"
   ]
  },
  {
   "cell_type": "code",
   "execution_count": null,
   "id": "bb32a838",
   "metadata": {},
   "outputs": [],
   "source": [
    "spam.setdefault('color', 'black')"
   ]
  },
  {
   "cell_type": "markdown",
   "id": "d50d92d6",
   "metadata": {},
   "source": [
    "8. How do you \"pretty print\" dictionary values using which module and function?"
   ]
  },
  {
   "cell_type": "code",
   "execution_count": null,
   "id": "5e108736",
   "metadata": {},
   "outputs": [],
   "source": [
    "import pprint\n",
    "\n",
    "my_dict = {\n",
    "    'name': 'John Doe',\n",
    "    'age': 30,\n",
    "    'city': 'New York',\n",
    "    'friends': {\n",
    "        'friend1': 'Alice',\n",
    "        'friend2': 'Bob',\n",
    "        'friend3': 'Charlie'\n",
    "    }\n",
    "}\n",
    "\n",
    "pprint.pprint(my_dict)\n"
   ]
  },
  {
   "cell_type": "code",
   "execution_count": null,
   "id": "b7a00e11",
   "metadata": {},
   "outputs": [],
   "source": []
  }
 ],
 "metadata": {
  "kernelspec": {
   "display_name": "Python 3 (ipykernel)",
   "language": "python",
   "name": "python3"
  },
  "language_info": {
   "codemirror_mode": {
    "name": "ipython",
    "version": 3
   },
   "file_extension": ".py",
   "mimetype": "text/x-python",
   "name": "python",
   "nbconvert_exporter": "python",
   "pygments_lexer": "ipython3",
   "version": "3.10.9"
  }
 },
 "nbformat": 4,
 "nbformat_minor": 5
}
